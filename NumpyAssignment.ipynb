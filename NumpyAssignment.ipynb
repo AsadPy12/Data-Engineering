{
  "cells": [
    {
      "cell_type": "code",
      "execution_count": 2,
      "metadata": {},
      "outputs": [],
      "source": [
        "import numpy as np"
      ]
    },
    {
      "cell_type": "markdown",
      "metadata": {
        "id": "UZXjlass3ARu"
      },
      "source": [
        "\n",
        "# **1. Basic Array Manipulation:**\n"
      ]
    },
    {
      "cell_type": "markdown",
      "metadata": {
        "id": "tDWPQRm23C7o"
      },
      "source": [
        "Create a 1D array with values ranging from 0 to 9.\n"
      ]
    },
    {
      "cell_type": "code",
      "execution_count": 6,
      "metadata": {
        "id": "OvGF66_02Q8H"
      },
      "outputs": [
        {
          "data": {
            "text/plain": [
              "1"
            ]
          },
          "execution_count": 6,
          "metadata": {},
          "output_type": "execute_result"
        }
      ],
      "source": [
        "np_array = np.array([i for i in range(0, 9)])\n",
        "np_array\n",
        "np_array.ndim"
      ]
    },
    {
      "cell_type": "markdown",
      "metadata": {
        "id": "UYzIzPyB3Ne3"
      },
      "source": [
        "Reshape the array into a 3x3 matrix.\n",
        "\n",
        "Explore Reshape Function"
      ]
    },
    {
      "cell_type": "code",
      "execution_count": 21,
      "metadata": {
        "id": "RLlzDCBc2Q_P"
      },
      "outputs": [
        {
          "data": {
            "text/plain": [
              "array([[0, 1, 2],\n",
              "       [3, 4, 5],\n",
              "       [6, 7, 8]])"
            ]
          },
          "execution_count": 21,
          "metadata": {},
          "output_type": "execute_result"
        }
      ],
      "source": [
        "rs_np_array = np_array.reshape(3, 3)\n",
        "rs_np_array"
      ]
    },
    {
      "cell_type": "markdown",
      "metadata": {
        "id": "KmhRK9Ti3Phn"
      },
      "source": [
        "Access the element at the second row, second column.\n"
      ]
    },
    {
      "cell_type": "code",
      "execution_count": 25,
      "metadata": {
        "id": "Dk_a1D3A3ijN"
      },
      "outputs": [
        {
          "data": {
            "text/plain": [
              "4"
            ]
          },
          "execution_count": 25,
          "metadata": {},
          "output_type": "execute_result"
        }
      ],
      "source": [
        "rs_np_array[1,1]"
      ]
    },
    {
      "cell_type": "markdown",
      "metadata": {
        "id": "NlH7N-fZ36wc"
      },
      "source": [
        "Perform element-wise addition, subtraction, multiplication, and division on two arrays [1, 2, 3] and [4, 5, 6].\n"
      ]
    },
    {
      "cell_type": "code",
      "execution_count": 27,
      "metadata": {
        "id": "PkgNSo1a37kP"
      },
      "outputs": [
        {
          "data": {
            "text/plain": [
              "12"
            ]
          },
          "execution_count": 27,
          "metadata": {},
          "output_type": "execute_result"
        }
      ],
      "source": [
        "#addition:\n",
        "rs_np_array[1,2]+ rs_np_array[2,1] # 5 + 7 = 12"
      ]
    },
    {
      "cell_type": "code",
      "execution_count": 29,
      "metadata": {},
      "outputs": [
        {
          "data": {
            "text/plain": [
              "array([18, 28, 40])"
            ]
          },
          "execution_count": 29,
          "metadata": {},
          "output_type": "execute_result"
        }
      ],
      "source": [
        "#multiplication\n",
        "rs_np_array[1] * rs_np_array[2] # row 2 multiplied by row 3 "
      ]
    },
    {
      "cell_type": "code",
      "execution_count": 33,
      "metadata": {},
      "outputs": [
        {
          "data": {
            "text/plain": [
              "array([ 1, -1,  0])"
            ]
          },
          "execution_count": 33,
          "metadata": {},
          "output_type": "execute_result"
        }
      ],
      "source": [
        "#subtraction\n",
        "arr_1 = np.array([2, 2, 4])\n",
        "arr_2 = np.array([1, 3, 4])\n",
        "\n",
        "sub_arr = np.subtract(arr_1, arr_2)\n",
        "sub_arr\n"
      ]
    },
    {
      "cell_type": "code",
      "execution_count": 44,
      "metadata": {},
      "outputs": [
        {
          "data": {
            "text/plain": [
              "array([2.        , 0.66666667, 1.        ])"
            ]
          },
          "execution_count": 44,
          "metadata": {},
          "output_type": "execute_result"
        }
      ],
      "source": [
        "#division\n",
        "div_arr = np.divide(arr_1, arr_2)\n",
        "div_arr"
      ]
    },
    {
      "cell_type": "markdown",
      "metadata": {
        "id": "JVt4zxkk8e0P"
      },
      "source": [
        "Find the sum, mean, and standard deviation of the array [1, 2, 3, 4, 5].\n"
      ]
    },
    {
      "cell_type": "code",
      "execution_count": 17,
      "metadata": {
        "id": "mQZxaZ0c8nhh"
      },
      "outputs": [
        {
          "data": {
            "text/plain": [
              "15"
            ]
          },
          "execution_count": 17,
          "metadata": {},
          "output_type": "execute_result"
        }
      ],
      "source": [
        "np_arr = np.array([1,2,3,4,5])\n",
        "np.sum(np_arr)"
      ]
    },
    {
      "cell_type": "code",
      "execution_count": 18,
      "metadata": {},
      "outputs": [
        {
          "data": {
            "text/plain": [
              "3.0"
            ]
          },
          "execution_count": 18,
          "metadata": {},
          "output_type": "execute_result"
        }
      ],
      "source": [
        "np.mean(np_arr)"
      ]
    },
    {
      "cell_type": "code",
      "execution_count": 19,
      "metadata": {},
      "outputs": [
        {
          "data": {
            "text/plain": [
              "1.4142135623730951"
            ]
          },
          "execution_count": 19,
          "metadata": {},
          "output_type": "execute_result"
        }
      ],
      "source": [
        "np.std(np_arr)"
      ]
    },
    {
      "cell_type": "markdown",
      "metadata": {
        "id": "ji2XvW0Z8nn5"
      },
      "source": [
        "Reshape the array [1, 2, 3, 4, 5, 6] into a 2x3 array.\n",
        "\n",
        "Explore Reshape"
      ]
    },
    {
      "cell_type": "code",
      "execution_count": 23,
      "metadata": {
        "id": "FNbYlzyI8rAx"
      },
      "outputs": [
        {
          "data": {
            "text/plain": [
              "array([[1, 2, 3],\n",
              "       [4, 5, 6]])"
            ]
          },
          "execution_count": 23,
          "metadata": {},
          "output_type": "execute_result"
        }
      ],
      "source": [
        "arr = np.array([1, 2, 3, 4, 5, 6])\n",
        "reshape_arr = arr.reshape(2, 3)\n",
        "reshape_arr"
      ]
    },
    {
      "cell_type": "markdown",
      "metadata": {
        "id": "OE-5o0th3SU4"
      },
      "source": [
        "\n",
        "# **2. Indexing and Slicing:**\n"
      ]
    },
    {
      "cell_type": "markdown",
      "metadata": {
        "id": "yqNKWBOl3an3"
      },
      "source": [
        "Create a 5x5 array with random integers.\n"
      ]
    },
    {
      "cell_type": "code",
      "execution_count": 7,
      "metadata": {
        "id": "G-kX4nme2RBn"
      },
      "outputs": [
        {
          "data": {
            "text/plain": [
              "array([[38, 18, 85,  4, 54],\n",
              "       [56, 32, 33, 69, 61],\n",
              "       [93, 68, 84,  6, 48],\n",
              "       [96, 50,  6, 36, 95],\n",
              "       [ 9, 72, 54, 60, 33]])"
            ]
          },
          "execution_count": 7,
          "metadata": {},
          "output_type": "execute_result"
        }
      ],
      "source": [
        "random_array = np.random.randint(0,100, size=(5,5))\n",
        "random_array"
      ]
    },
    {
      "cell_type": "markdown",
      "metadata": {
        "id": "LlilKAMF3bMX"
      },
      "source": [
        "Replace all values in the sub-array with a specific value.\n"
      ]
    },
    {
      "cell_type": "code",
      "execution_count": 9,
      "metadata": {
        "id": "gShfqRGm2REI"
      },
      "outputs": [
        {
          "data": {
            "text/plain": [
              "array([[38, 18, 85,  4, 54],\n",
              "       [56,  0,  0,  0, 61],\n",
              "       [93,  0,  0,  0, 48],\n",
              "       [96,  0,  0,  0, 95],\n",
              "       [ 9, 72, 54, 60, 33]])"
            ]
          },
          "execution_count": 9,
          "metadata": {},
          "output_type": "execute_result"
        }
      ],
      "source": [
        "start_row, end_row = 1, 3\n",
        "start_col, end_col = 1, 3\n",
        "specific_value = 0\n",
        "\n",
        "random_array[start_row:end_row+1, start_col:end_col+1] = specific_value\n",
        "\n",
        "random_array"
      ]
    },
    {
      "cell_type": "markdown",
      "metadata": {
        "id": "1kUY7u023gfF"
      },
      "source": [
        "Extract the subarray [[3, 4], [7, 8]] from the array [[1, 2], [3, 4], [5, 6], [7, 8]].\n"
      ]
    },
    {
      "cell_type": "code",
      "execution_count": 12,
      "metadata": {
        "id": "UmgqjBwC3_4V"
      },
      "outputs": [
        {
          "data": {
            "text/plain": [
              "array([[3, 4],\n",
              "       [5, 6]])"
            ]
          },
          "execution_count": 12,
          "metadata": {},
          "output_type": "execute_result"
        }
      ],
      "source": [
        "array = np.array([[1,2], [3,4], [5,6],[7,8]])\n",
        "\n",
        "sub_array = array[1:3]\n",
        "sub_array"
      ]
    },
    {
      "cell_type": "markdown",
      "metadata": {
        "id": "vPrCHS_O3jK9"
      },
      "source": [
        "\n",
        "# **3. Broadcasting:**"
      ]
    },
    {
      "cell_type": "markdown",
      "metadata": {
        "id": "W3WUM5Cc3phc"
      },
      "source": [
        "Create a 2D array of shape (3, 3) with values from 0 to 2.\n"
      ]
    },
    {
      "cell_type": "code",
      "execution_count": 38,
      "metadata": {
        "id": "PxJrAlFW2RGw"
      },
      "outputs": [
        {
          "data": {
            "text/plain": [
              "array([[0, 1, 2],\n",
              "       [0, 1, 2],\n",
              "       [0, 1, 2]])"
            ]
          },
          "execution_count": 38,
          "metadata": {},
          "output_type": "execute_result"
        }
      ],
      "source": [
        "arr_2d = np.array([[0, 1, 2],[0, 1, 2],[0, 1, 2]])\n",
        "arr_2d"
      ]
    },
    {
      "cell_type": "markdown",
      "metadata": {
        "id": "J5XPwN3A3rXG"
      },
      "source": [
        "Add a 1D array of shape (3,) to each row of the 2D array using broadcasting.\n"
      ]
    },
    {
      "cell_type": "code",
      "execution_count": 47,
      "metadata": {
        "id": "k4FM2g_c2RJv"
      },
      "outputs": [
        {
          "name": "stdout",
          "output_type": "stream",
          "text": [
            "Original Array of 1D:\n",
            "[0 1 2]\n",
            "\n",
            "Original Array of 2D:\n",
            "[[0 1 2]\n",
            " [0 1 2]\n",
            " [0 1 2]]\n",
            "\n",
            "Result of summed array:\n",
            "[[0 2 4]\n",
            " [0 2 4]\n",
            " [0 2 4]]\n"
          ]
        }
      ],
      "source": [
        "arr_1d = np.arange(3).reshape(3)\n",
        "added_array = arr_1d + arr_2d\n",
        "print(f'Original Array of 1D:\\n{arr_1d}')\n",
        "print()\n",
        "print(f'Original Array of 2D:\\n{arr_2d}')\n",
        "print()\n",
        "print(f'Result of summed array:\\n{added_array}')"
      ]
    },
    {
      "cell_type": "markdown",
      "metadata": {
        "id": "9CbtQS3w4PA3"
      },
      "source": [
        "# **4. Concatenation and Splitting**"
      ]
    },
    {
      "cell_type": "markdown",
      "metadata": {
        "id": "yMg_umVy4ILG"
      },
      "source": [
        "\n",
        "1.   Create two 2D arrays of shape (3, 3) with random integers.\n",
        "2.   Concatenate them horizontally and vertically.\n",
        "3.   Split the concatenated arrays back into the original arrays.\n"
      ]
    },
    {
      "cell_type": "code",
      "execution_count": 88,
      "metadata": {},
      "outputs": [],
      "source": [
        "array_1 = np.random.randint(0, 9, size =(3,3))\n",
        "array_2 = np.random.randint(0,9, size =(3,3))"
      ]
    },
    {
      "cell_type": "code",
      "execution_count": 89,
      "metadata": {},
      "outputs": [
        {
          "data": {
            "text/plain": [
              "array([[7, 7, 7],\n",
              "       [3, 7, 1],\n",
              "       [8, 5, 4],\n",
              "       [7, 8, 0],\n",
              "       [3, 4, 4],\n",
              "       [0, 5, 7]])"
            ]
          },
          "execution_count": 89,
          "metadata": {},
          "output_type": "execute_result"
        }
      ],
      "source": [
        "horizontal_concatenation = np.concatenate((array_1, array_2), axis = 0)\n",
        "horizontal_concatenation"
      ]
    },
    {
      "cell_type": "code",
      "execution_count": 90,
      "metadata": {
        "id": "lgMsjt-J8XZK"
      },
      "outputs": [
        {
          "data": {
            "text/plain": [
              "array([[7, 7, 7, 7, 8, 0],\n",
              "       [3, 7, 1, 3, 4, 4],\n",
              "       [8, 5, 4, 0, 5, 7]])"
            ]
          },
          "execution_count": 90,
          "metadata": {},
          "output_type": "execute_result"
        }
      ],
      "source": [
        "vertical_concatenation = np.concatenate((array_1, array_2), axis = 1)\n",
        "vertical_concatenation"
      ]
    },
    {
      "cell_type": "markdown",
      "metadata": {
        "id": "2CliNLH8YG3j"
      },
      "source": [
        "# **Bonus Question**\n",
        "\n",
        "Find mode of this array  = [1,2,1,2,3,4,5,6,8,9,1,2,2,22,21,1,1,1,1,2,5]\n",
        "\n",
        "Hint: Use count and also loop"
      ]
    },
    {
      "cell_type": "code",
      "execution_count": 3,
      "metadata": {
        "id": "JGe2Qe3SYaHq"
      },
      "outputs": [
        {
          "name": "stdout",
          "output_type": "stream",
          "text": [
            "1\n"
          ]
        }
      ],
      "source": [
        "array =  np.array([1,2,1,2,3,4,5,6,8,9,1,2,2,22,21,1,1,1,1,2,5])\n",
        "count_dict = {}\n",
        "\n",
        "for i in array:\n",
        "    if i in count_dict:\n",
        "        count_dict[i] += 1\n",
        "    else:\n",
        "        count_dict[i] = 1\n",
        "mode = None\n",
        "max_count = 0\n",
        "\n",
        "for key, value in count_dict.items():\n",
        "    if value> max_count:\n",
        "        max_count = value\n",
        "        mode = key\n",
        "\n",
        "print(mode)\n"
      ]
    },
    {
      "cell_type": "markdown",
      "metadata": {
        "id": "1t9n5GQdYbHN"
      },
      "source": [
        "# **Notes**\n",
        "\n",
        "\n",
        "1.   All the Questions carry Equal Points (2 points)\n",
        "\n",
        "2.   Bonus Question carry 5 points\n",
        "\n",
        "3.   Review lecture for any query\n",
        "\n",
        "Good Luck!\n",
        "\n"
      ]
    },
    {
      "cell_type": "code",
      "execution_count": null,
      "metadata": {
        "id": "yxT9-gJfYugV"
      },
      "outputs": [],
      "source": []
    }
  ],
  "metadata": {
    "colab": {
      "provenance": []
    },
    "kernelspec": {
      "display_name": "Python 3",
      "name": "python3"
    },
    "language_info": {
      "codemirror_mode": {
        "name": "ipython",
        "version": 3
      },
      "file_extension": ".py",
      "mimetype": "text/x-python",
      "name": "python",
      "nbconvert_exporter": "python",
      "pygments_lexer": "ipython3",
      "version": "3.12.3"
    }
  },
  "nbformat": 4,
  "nbformat_minor": 0
}
