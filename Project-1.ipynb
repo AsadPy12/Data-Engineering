{
 "cells": [
  {
   "cell_type": "markdown",
   "id": "8bd6e66e-ede6-45b6-bc68-06664bf9be2d",
   "metadata": {},
   "source": [
    "### Project 01 : Acquiring and processing information on world's largest banks\n",
    "- Task 1: Logging function\n",
    "- Task 2 : Extraction of data\n",
    "- Task 3 : Transformation of data\n",
    "- Task 4: Loading to CSV\n",
    "- Task 5: Loading to Database\n",
    "- Task 6: Function to Run queries on Database\n",
    "- Task 7: Verify log entries"
   ]
  },
  {
   "cell_type": "code",
   "execution_count": 1,
   "id": "1d12ae8f-7b9d-4e27-bbda-f30e3ba6dd5f",
   "metadata": {},
   "outputs": [],
   "source": [
    "#installing some main libraries\n",
    "from io import StringIO\n",
    "import requests\n",
    "from bs4 import BeautifulSoup\n",
    "import sqlite3\n",
    "from datetime import datetime\n",
    "import pandas as pd"
   ]
  },
  {
   "cell_type": "markdown",
   "id": "e44a5dc3-6f8d-4989-ba29-4b8c16955551",
   "metadata": {},
   "source": [
    "#### Step 0 Maintaining a Log File:"
   ]
  },
  {
   "cell_type": "code",
   "execution_count": 9,
   "id": "96d2dad2-e585-4c32-a68c-6f8f7f1ed538",
   "metadata": {},
   "outputs": [],
   "source": [
    "def log_progress(message):\n",
    "    with open('logs/code_log.txt', 'a') as f:\n",
    "        f.write(f'{datetime.now()}: {message}\\n')"
   ]
  },
  {
   "cell_type": "markdown",
   "id": "0e59fac0-e936-4982-a861-976b972fe277",
   "metadata": {},
   "source": [
    "#### Step 1: Extraction of Data:"
   ]
  },
  {
   "cell_type": "code",
   "execution_count": 3,
   "id": "88cc85d1-24b7-4054-a8f0-cc1834f10e79",
   "metadata": {},
   "outputs": [],
   "source": [
    "def extract(url, table_attribs):\n",
    "    soup = BeautifulSoup(requests.get(url).text, 'html.parser')\n",
    "    table = soup.find('span', string = table_attribs).find_next('table')\n",
    "    df = pd.read_html(StringIO(str(table)))[0]\n",
    "\n",
    "    log_progress('Data extraction complete. Initializing Transformation process')\n",
    "\n",
    "    return df"
   ]
  },
  {
   "cell_type": "markdown",
   "id": "99106172-a690-431c-b4fc-7787032d064e",
   "metadata": {},
   "source": [
    "#### Step 2: Transformation of Data:"
   ]
  },
  {
   "cell_type": "code",
   "execution_count": 4,
   "id": "cf7fedb9-3b0f-4b68-b974-fa8aa9f541f5",
   "metadata": {},
   "outputs": [],
   "source": [
    "def transform(df, csv_path):\n",
    "    exchange_rate = pd.read_csv('./input/exchange_rate.csv', index_col = 0).to_dict()['Rate']\n",
    "\n",
    "    df['MC_GBP_Billion'] = round(df['Market cap (US$ billion)'] * exchange_rate['GBP'], 2)\n",
    "    df['MC_EUR_Billion'] = round(df['Market cap (US$ billion)'] * exchange_rate['EUR'], 2)\n",
    "    df['MC_INR_Billion'] = round(df['Market cap (US$ billion)'] * exchange_rate['INR'], 2)\n",
    "\n",
    "    log_progress('Data transformation complete. Initiating Loading process')\n",
    "\n",
    "    return df\n",
    "    "
   ]
  },
  {
   "cell_type": "markdown",
   "id": "454034ae-70f7-4353-9732-0554e55eec2d",
   "metadata": {},
   "source": [
    "#### Step 2: Loading:\n",
    "\n",
    "Loading data to csv"
   ]
  },
  {
   "cell_type": "code",
   "execution_count": 5,
   "id": "674e06f6-5e97-48da-bcc6-b025edc18ebd",
   "metadata": {},
   "outputs": [],
   "source": [
    "def load_to_csv(df, output_path):\n",
    "    df.to_csv(output_path)\n",
    "\n",
    "    log_progress('Data save to csv file')"
   ]
  },
  {
   "cell_type": "markdown",
   "id": "2fc9373c-186a-4ee1-8dc2-677148079a6e",
   "metadata": {},
   "source": [
    "Loading data to SQL database"
   ]
  },
  {
   "cell_type": "code",
   "execution_count": 6,
   "id": "8d353105-b8b0-4bff-a486-0735a95ad5e2",
   "metadata": {},
   "outputs": [],
   "source": [
    "def load_to_db(df, sql_connection, table_name):\n",
    "    df.to_sql(table_name, sql_connection, if_exists = 'replace', index=False)\n",
    "\n",
    "    log_progress('Data loaded into Database as a table, Executing queries...')\n",
    "\n",
    "def run_query(query_statement, sql_connection):\n",
    "    cursor = sql_connection.cursor()\n",
    "    cursor.execute(query_statement)\n",
    "    result = cursor.fetchall()\n",
    "\n",
    "    log_progress('Process Complete')\n",
    "\n",
    "    return result"
   ]
  },
  {
   "cell_type": "code",
   "execution_count": 10,
   "id": "9d4af22f-75c6-4727-b770-a2fa5a2a27ad",
   "metadata": {},
   "outputs": [
    {
     "name": "stdout",
     "output_type": "stream",
     "text": [
      "   Rank                                Bank name  Market cap (US$ billion)  \\\n",
      "0     1                           JPMorgan Chase                    432.92   \n",
      "1     2                          Bank of America                    231.52   \n",
      "2     3  Industrial and Commercial Bank of China                    194.56   \n",
      "3     4               Agricultural Bank of China                    160.68   \n",
      "4     5                                HDFC Bank                    157.91   \n",
      "5     6                              Wells Fargo                    155.87   \n",
      "6     7                        HSBC Holdings PLC                    148.90   \n",
      "7     8                           Morgan Stanley                    140.83   \n",
      "8     9                  China Construction Bank                    139.82   \n",
      "9    10                            Bank of China                    136.81   \n",
      "\n",
      "   MC_GBP_Billion  MC_EUR_Billion  MC_INR_Billion  \n",
      "0          346.34          402.62        35910.71  \n",
      "1          185.22          215.31        19204.58  \n",
      "2          155.65          180.94        16138.75  \n",
      "3          128.54          149.43        13328.41  \n",
      "4          126.33          146.86        13098.63  \n",
      "5          124.70          144.96        12929.42  \n",
      "6          119.12          138.48        12351.26  \n",
      "7          112.66          130.97        11681.85  \n",
      "8          111.86          130.03        11598.07  \n",
      "9          109.45          127.23        11348.39  \n"
     ]
    }
   ],
   "source": [
    "if __name__ == '__main__':\n",
    "    url = 'https://web.archive.org/web/20230908091635/https://en.wikipedia.org/wiki/List_of_largest_banks'\n",
    "    output_csv_path = './Largest_banks_data.csv'\n",
    "    database_name = 'Banks.db'\n",
    "    table_name = 'Largest_banks'\n",
    "\n",
    "    log_progress('Preliminaries complete.Initiating Etl process')\n",
    "    df = extract(url, 'By market capitalization')\n",
    "    transform(df, './data/exchange_rate.csv')\n",
    "    load_to_csv(df, output_csv_path)\n",
    "\n",
    "    with sqlite3.connect(database_name) as conn:\n",
    "        load_to_db(df, conn, table_name)\n",
    "\n",
    "        run_query('SELECT * FROM Largest_banks', conn)\n",
    "        run_query('SELECT AVG(MC_GBP_Billion) FROM Largest_banks', conn)\n",
    "        run_query('SELECT \"Bank name\" FROM Largest_banks LIMIT 5', conn)\n",
    "\n",
    "\n",
    "print(df)"
   ]
  },
  {
   "cell_type": "code",
   "execution_count": 8,
   "id": "45be3dac-8dd5-463e-82c0-bde57094ef1f",
   "metadata": {},
   "outputs": [
    {
     "name": "stdout",
     "output_type": "stream",
     "text": [
      "Requirement already satisfied: lxml in c:\\users\\win 10\\anaconda3\\lib\\site-packages (5.2.2)\n"
     ]
    }
   ],
   "source": [
    "!pip install lxml"
   ]
  },
  {
   "cell_type": "code",
   "execution_count": null,
   "id": "75e5eef2-72f1-4094-b307-0f04c916d2da",
   "metadata": {},
   "outputs": [],
   "source": []
  }
 ],
 "metadata": {
  "kernelspec": {
   "display_name": "Python 3 (ipykernel)",
   "language": "python",
   "name": "python3"
  },
  "language_info": {
   "codemirror_mode": {
    "name": "ipython",
    "version": 3
   },
   "file_extension": ".py",
   "mimetype": "text/x-python",
   "name": "python",
   "nbconvert_exporter": "python",
   "pygments_lexer": "ipython3",
   "version": "3.11.7"
  }
 },
 "nbformat": 4,
 "nbformat_minor": 5
}
